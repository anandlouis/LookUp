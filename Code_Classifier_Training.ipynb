{
 "cells": [
  {
   "cell_type": "code",
   "execution_count": 225,
   "metadata": {
    "collapsed": true
   },
   "outputs": [],
   "source": [
    "import pandas as pd\n",
    "from sklearn.utils import shuffle\n",
    "import nltk\n",
    "from nltk.tokenize import RegexpTokenizer\n",
    "from nltk.corpus import stopwords\n",
    "from nltk.classify.scikitlearn import SklearnClassifier\n",
    "import pickle\n",
    "\n",
    "from sklearn.naive_bayes import MultinomialNB, BernoulliNB\n",
    "from sklearn.linear_model import LogisticRegression, SGDClassifier\n",
    "from sklearn.svm import SVC, LinearSVC, NuSVC\n",
    "\n",
    "from nltk.classify import ClassifierI\n",
    "from statistics import mode"
   ]
  },
  {
   "cell_type": "markdown",
   "metadata": {},
   "source": [
    "# Read Data"
   ]
  },
  {
   "cell_type": "code",
   "execution_count": 226,
   "metadata": {
    "collapsed": false
   },
   "outputs": [],
   "source": [
    "df = pd.read_excel(\"CRDM_Data_Load.xlsx\")"
   ]
  },
  {
   "cell_type": "markdown",
   "metadata": {},
   "source": [
    "## Combining Description and Value"
   ]
  },
  {
   "cell_type": "code",
   "execution_count": 227,
   "metadata": {
    "collapsed": false
   },
   "outputs": [],
   "source": [
    "df['Des_Val_combined']=df.apply(lambda x:'%s %s' % (x['DESCRIPTION'],x['VALUE_ID']),axis=1)\n",
    "#df"
   ]
  },
  {
   "cell_type": "markdown",
   "metadata": {
    "collapsed": false
   },
   "source": [
    "# Data prepration for  Class 1"
   ]
  },
  {
   "cell_type": "code",
   "execution_count": 228,
   "metadata": {
    "collapsed": true
   },
   "outputs": [],
   "source": [
    "Class_1_df=df.filter(['Des_Val_combined','Class_1'], axis=1)\n",
    "Class_1_List= Class_1_df.values.tolist()\n",
    "Class_1_List= shuffle(Class_1_List)\n",
    "#Class_1_List"
   ]
  },
  {
   "cell_type": "markdown",
   "metadata": {},
   "source": [
    "# Splitting for training and testing"
   ]
  },
  {
   "cell_type": "code",
   "execution_count": 229,
   "metadata": {
    "collapsed": false
   },
   "outputs": [
    {
     "name": "stdout",
     "output_type": "stream",
     "text": [
      "Train: 1568 Test: 392\n"
     ]
    }
   ],
   "source": [
    "size = int(len(Class_1_List) * 0.20)\n",
    "train_set, test_set = Class_1_List[size:], Class_1_List[:size]\n",
    "print('Train:',len(train_set),'Test:',len(test_set))\n",
    "train_set=Class_1_List"
   ]
  },
  {
   "cell_type": "markdown",
   "metadata": {
    "collapsed": false
   },
   "source": [
    "# Function for Feature Extraction"
   ]
  },
  {
   "cell_type": "code",
   "execution_count": 230,
   "metadata": {
    "collapsed": false
   },
   "outputs": [],
   "source": [
    "def preprocess(sentence):\n",
    "    sentence = sentence.lower()\n",
    "    tokenizer = RegexpTokenizer(r'\\w+')\n",
    "    tokens = tokenizer.tokenize(sentence)\n",
    "    filtered_words = [w for w in tokens if not w in stopwords.words('english')]\n",
    "    return \" \".join(filtered_words)\n",
    "\n",
    "def document_features(post):\n",
    "    cleansed_post=preprocess(post)\n",
    "    features = {}\n",
    "    for word in nltk.word_tokenize(cleansed_post):\n",
    "          features['contains({})'.format(word.lower())] = True\n",
    "    return features"
   ]
  },
  {
   "cell_type": "markdown",
   "metadata": {
    "collapsed": false
   },
   "source": [
    "### Converting data to Feature Vectors"
   ]
  },
  {
   "cell_type": "code",
   "execution_count": 231,
   "metadata": {
    "collapsed": true
   },
   "outputs": [],
   "source": [
    "train_featuresets = [(document_features(Value), class1) for (Value,class1) in train_set]\n",
    "test_featuresets = [(document_features(Value), class1) for (Value,class1) in test_set]"
   ]
  },
  {
   "cell_type": "markdown",
   "metadata": {
    "collapsed": false
   },
   "source": [
    "# Train Using NaiveBayesClassifier\n"
   ]
  },
  {
   "cell_type": "code",
   "execution_count": 232,
   "metadata": {
    "collapsed": false
   },
   "outputs": [],
   "source": [
    "NaiveBayesClassifier = nltk.NaiveBayesClassifier.train(train_featuresets)"
   ]
  },
  {
   "cell_type": "markdown",
   "metadata": {
    "collapsed": true
   },
   "source": [
    "## Checking acuracy on Testing"
   ]
  },
  {
   "cell_type": "code",
   "execution_count": 233,
   "metadata": {
    "collapsed": false
   },
   "outputs": [
    {
     "name": "stdout",
     "output_type": "stream",
     "text": [
      "NaiveBayesClassifier accuracy percent: 6.887755102040815\n"
     ]
    }
   ],
   "source": [
    "print(\"NaiveBayesClassifier accuracy percent:\", (nltk.classify.accuracy(NaiveBayesClassifier, test_featuresets))*100)"
   ]
  },
  {
   "cell_type": "markdown",
   "metadata": {},
   "source": [
    "## Other Classifier results"
   ]
  },
  {
   "cell_type": "code",
   "execution_count": 234,
   "metadata": {
    "collapsed": false
   },
   "outputs": [
    {
     "name": "stdout",
     "output_type": "stream",
     "text": [
      "MNB_classifier accuracy percent: 95.40816326530613\n",
      "BernoulliNB_classifier accuracy percent: 76.78571428571429\n",
      "LogisticRegression_classifier accuracy percent: 97.1938775510204\n",
      "SGDClassifier_classifier accuracy percent: 98.21428571428571\n",
      "LinearSVC_classifier accuracy percent: 98.72448979591837\n"
     ]
    }
   ],
   "source": [
    "#MultinomialNB\n",
    "MNB_classifier = SklearnClassifier(MultinomialNB())\n",
    "MNB_classifier.train(train_featuresets)\n",
    "print(\"MNB_classifier accuracy percent:\", (nltk.classify.accuracy(MNB_classifier, test_featuresets))*100)\n",
    "\n",
    "#BernoulliNB\n",
    "BernoulliNB_classifier = SklearnClassifier(BernoulliNB())\n",
    "BernoulliNB_classifier.train(train_featuresets)\n",
    "print(\"BernoulliNB_classifier accuracy percent:\", (nltk.classify.accuracy(BernoulliNB_classifier, test_featuresets))*100)\n",
    "\n",
    "#LogisticRegression\n",
    "LogisticRegression_classifier = SklearnClassifier(LogisticRegression())\n",
    "LogisticRegression_classifier.train(train_featuresets)\n",
    "print(\"LogisticRegression_classifier accuracy percent:\", (nltk.classify.accuracy(LogisticRegression_classifier, test_featuresets))*100)\n",
    "\n",
    "#Stochastic Gradient Descent \n",
    "SGDClassifier_classifier = SklearnClassifier(SGDClassifier())\n",
    "SGDClassifier_classifier.train(train_featuresets)\n",
    "print(\"SGDClassifier_classifier accuracy percent:\", (nltk.classify.accuracy(SGDClassifier_classifier, test_featuresets))*100)\n",
    "\n",
    "##SVC_classifier = SklearnClassifier(SVC())\n",
    "##SVC_classifier.train(train_set)\n",
    "##print(\"SVC_classifier accuracy percent:\", (nltk.classify.accuracy(SVC_classifier, test_set))*100)\n",
    "\n",
    "#Linear Support Vector \n",
    "LinearSVC_classifier = SklearnClassifier(LinearSVC())\n",
    "LinearSVC_classifier.train(train_featuresets)\n",
    "print(\"LinearSVC_classifier accuracy percent:\", (nltk.classify.accuracy(LinearSVC_classifier, test_featuresets))*100)\n",
    "\n",
    "##NuSVC_classifier = SklearnClassifier(NuSVC())\n",
    "##NuSVC_classifier.train(train_featuresets)\n",
    "##print(\"NuSVC_classifier accuracy percent:\", (nltk.classify.accuracy(NuSVC_classifier, test_featuresets))*100)"
   ]
  },
  {
   "cell_type": "markdown",
   "metadata": {},
   "source": [
    "## Pickle the Classifier"
   ]
  },
  {
   "cell_type": "code",
   "execution_count": 235,
   "metadata": {
    "collapsed": true
   },
   "outputs": [],
   "source": [
    "output = open('pickled/C1_NaiveBayesClassifier.pkl', 'wb')\n",
    "pickle.dump(NaiveBayesClassifier, output)\n",
    "\n",
    "output = open('pickled/C1_MNB_classifier.pkl', 'wb')\n",
    "pickle.dump(MNB_classifier, output)\n",
    "\n",
    "output = open('pickled/C1_BernoulliNB_classifier.pkl', 'wb')\n",
    "pickle.dump(BernoulliNB_classifier, output)\n",
    "\n",
    "output = open('pickled/C1_LogisticRegression_classifier.pkl', 'wb')\n",
    "pickle.dump(LogisticRegression_classifier, output)\n",
    "\n",
    "output = open('pickled/C1_SGDClassifier_classifier.pkl', 'wb')\n",
    "pickle.dump(SGDClassifier_classifier, output)\n",
    "\n",
    "output = open('pickled/C1_LinearSVC_classifier.pkl', 'wb')\n",
    "pickle.dump(LinearSVC_classifier, output)"
   ]
  },
  {
   "cell_type": "markdown",
   "metadata": {},
   "source": []
  },
  {
   "cell_type": "markdown",
   "metadata": {},
   "source": [
    "### Testing"
   ]
  },
  {
   "cell_type": "code",
   "execution_count": 236,
   "metadata": {
    "collapsed": false
   },
   "outputs": [],
   "source": [
    "SampleText='Singapore Dollar'"
   ]
  },
  {
   "cell_type": "code",
   "execution_count": 237,
   "metadata": {
    "collapsed": true
   },
   "outputs": [],
   "source": [
    "featuresets_SampleText= document_features(SampleText)"
   ]
  },
  {
   "cell_type": "code",
   "execution_count": 238,
   "metadata": {
    "collapsed": false
   },
   "outputs": [
    {
     "data": {
      "text/plain": [
       "'General'"
      ]
     },
     "execution_count": 238,
     "metadata": {},
     "output_type": "execute_result"
    }
   ],
   "source": [
    "NaiveBayesClassifier.classify(featuresets_SampleText)"
   ]
  },
  {
   "cell_type": "markdown",
   "metadata": {},
   "source": [
    "## Data Prepration for next Classifier Calss 2 'Persona'"
   ]
  },
  {
   "cell_type": "code",
   "execution_count": 239,
   "metadata": {
    "collapsed": false
   },
   "outputs": [],
   "source": [
    "Persona_df=df.loc[df['Class_1'] == 'Persona']\n",
    "Class_2_df=Persona_df.filter(['Des_Val_combined','Class_2'], axis=1)\n",
    "Persona_List= Class_2_df.values.tolist()\n",
    "Persona_List= shuffle(Persona_List)\n",
    "#Persona_List"
   ]
  },
  {
   "cell_type": "code",
   "execution_count": 240,
   "metadata": {
    "collapsed": true
   },
   "outputs": [],
   "source": [
    "size = int(len(Persona_List) * 0.20)\n",
    "train_set, test_set = Persona_List[size:], Persona_List[:size]\n",
    "train_set=Persona_List"
   ]
  },
  {
   "cell_type": "code",
   "execution_count": 241,
   "metadata": {
    "collapsed": true
   },
   "outputs": [],
   "source": [
    "train_featuresets = [(document_features(Value), class2) for (Value,class2) in train_set]\n",
    "test_featuresets = [(document_features(Value), class2) for (Value,class2) in test_set]"
   ]
  },
  {
   "cell_type": "markdown",
   "metadata": {},
   "source": [
    "# Traingn and Testing"
   ]
  },
  {
   "cell_type": "code",
   "execution_count": 242,
   "metadata": {
    "collapsed": false
   },
   "outputs": [
    {
     "name": "stdout",
     "output_type": "stream",
     "text": [
      "NaiveBayesClassifier accuracy percent: 36.734693877551024\n"
     ]
    }
   ],
   "source": [
    "NaiveBayesClassifier = nltk.NaiveBayesClassifier.train(train_featuresets)\n",
    "print(\"NaiveBayesClassifier accuracy percent:\", (nltk.classify.accuracy(NaiveBayesClassifier, test_featuresets))*100)"
   ]
  },
  {
   "cell_type": "code",
   "execution_count": 243,
   "metadata": {
    "collapsed": false
   },
   "outputs": [
    {
     "name": "stdout",
     "output_type": "stream",
     "text": [
      "MNB_classifier accuracy percent: 91.83673469387756\n",
      "BernoulliNB_classifier accuracy percent: 73.46938775510205\n",
      "LogisticRegression_classifier accuracy percent: 93.87755102040816\n",
      "SGDClassifier_classifier accuracy percent: 91.83673469387756\n",
      "LinearSVC_classifier accuracy percent: 95.91836734693877\n"
     ]
    }
   ],
   "source": [
    "MNB_classifier = SklearnClassifier(MultinomialNB())\n",
    "MNB_classifier.train(train_featuresets)\n",
    "print(\"MNB_classifier accuracy percent:\", (nltk.classify.accuracy(MNB_classifier, test_featuresets))*100)\n",
    "\n",
    "BernoulliNB_classifier = SklearnClassifier(BernoulliNB())\n",
    "BernoulliNB_classifier.train(train_featuresets)\n",
    "print(\"BernoulliNB_classifier accuracy percent:\", (nltk.classify.accuracy(BernoulliNB_classifier, test_featuresets))*100)\n",
    "\n",
    "LogisticRegression_classifier = SklearnClassifier(LogisticRegression())\n",
    "LogisticRegression_classifier.train(train_featuresets)\n",
    "print(\"LogisticRegression_classifier accuracy percent:\", (nltk.classify.accuracy(LogisticRegression_classifier, test_featuresets))*100)\n",
    "\n",
    "SGDClassifier_classifier = SklearnClassifier(SGDClassifier())\n",
    "SGDClassifier_classifier.train(train_featuresets)\n",
    "print(\"SGDClassifier_classifier accuracy percent:\", (nltk.classify.accuracy(SGDClassifier_classifier, test_featuresets))*100)\n",
    "\n",
    "##SVC_classifier = SklearnClassifier(SVC())\n",
    "##SVC_classifier.train(train_set)\n",
    "##print(\"SVC_classifier accuracy percent:\", (nltk.classify.accuracy(SVC_classifier, test_set))*100)\n",
    "\n",
    "LinearSVC_classifier = SklearnClassifier(LinearSVC())\n",
    "LinearSVC_classifier.train(train_featuresets)\n",
    "print(\"LinearSVC_classifier accuracy percent:\", (nltk.classify.accuracy(LinearSVC_classifier, test_featuresets))*100)\n",
    "\n",
    "##NuSVC_classifier = SklearnClassifier(NuSVC())\n",
    "##NuSVC_classifier.train(train_featuresets)\n",
    "##print(\"NuSVC_classifier accuracy percent:\", (nltk.classify.accuracy(NuSVC_classifier, test_featuresets))*100)"
   ]
  },
  {
   "cell_type": "code",
   "execution_count": 244,
   "metadata": {
    "collapsed": true
   },
   "outputs": [],
   "source": [
    "output = open('pickled/C2_Persona_NaiveBayesClassifier.pkl', 'wb')\n",
    "pickle.dump(NaiveBayesClassifier, output)\n",
    "\n",
    "output = open('pickled/C2_Persona_MNB_classifier.pkl', 'wb')\n",
    "pickle.dump(MNB_classifier, output)\n",
    "\n",
    "output = open('pickled/C2_Persona_BernoulliNB_classifier.pkl', 'wb')\n",
    "pickle.dump(BernoulliNB_classifier, output)\n",
    "\n",
    "output = open('pickled/C2_Persona_LogisticRegression_classifier.pkl', 'wb')\n",
    "pickle.dump(LogisticRegression_classifier, output)\n",
    "\n",
    "output = open('pickled/C2_Persona_SGDClassifier_classifier.pkl', 'wb')\n",
    "pickle.dump(SGDClassifier_classifier, output)\n",
    "\n",
    "output = open('pickled/C2_Persona_LinearSVC_classifier.pkl', 'wb')\n",
    "pickle.dump(LinearSVC_classifier, output)"
   ]
  },
  {
   "cell_type": "markdown",
   "metadata": {},
   "source": [
    "# For General"
   ]
  },
  {
   "cell_type": "code",
   "execution_count": 245,
   "metadata": {
    "collapsed": false
   },
   "outputs": [
    {
     "name": "stdout",
     "output_type": "stream",
     "text": [
      "NaiveBayesClassifier accuracy percent: 92.5925925925926\n",
      "MNB_classifier accuracy percent: 91.85185185185185\n",
      "BernoulliNB_classifier accuracy percent: 57.03703703703704\n",
      "LogisticRegression_classifier accuracy percent: 97.77777777777777\n",
      "SGDClassifier_classifier accuracy percent: 100.0\n",
      "LinearSVC_classifier accuracy percent: 100.0\n"
     ]
    }
   ],
   "source": [
    "General_df=df.loc[df['Class_1'] == 'General']\n",
    "Class_2_df=General_df.filter(['Des_Val_combined','Class_2'], axis=1)\n",
    "General_List= Class_2_df.values.tolist()\n",
    "General_List= shuffle(General_List)\n",
    "#Persona_List\n",
    "size = int(len(General_List) * 0.20)\n",
    "train_set, test_set = General_List[size:], General_List[:size]\n",
    "train_set=General_List\n",
    "train_featuresets = [(document_features(Value), class2) for (Value,class2) in train_set]\n",
    "test_featuresets = [(document_features(Value), class2) for (Value,class2) in test_set]\n",
    "NaiveBayesClassifier = nltk.NaiveBayesClassifier.train(train_featuresets)\n",
    "print(\"NaiveBayesClassifier accuracy percent:\", (nltk.classify.accuracy(NaiveBayesClassifier, test_featuresets))*100)\n",
    "MNB_classifier = SklearnClassifier(MultinomialNB())\n",
    "MNB_classifier.train(train_featuresets)\n",
    "print(\"MNB_classifier accuracy percent:\", (nltk.classify.accuracy(MNB_classifier, test_featuresets))*100)\n",
    "\n",
    "BernoulliNB_classifier = SklearnClassifier(BernoulliNB())\n",
    "BernoulliNB_classifier.train(train_featuresets)\n",
    "print(\"BernoulliNB_classifier accuracy percent:\", (nltk.classify.accuracy(BernoulliNB_classifier, test_featuresets))*100)\n",
    "\n",
    "LogisticRegression_classifier = SklearnClassifier(LogisticRegression())\n",
    "LogisticRegression_classifier.train(train_featuresets)\n",
    "print(\"LogisticRegression_classifier accuracy percent:\", (nltk.classify.accuracy(LogisticRegression_classifier, test_featuresets))*100)\n",
    "\n",
    "SGDClassifier_classifier = SklearnClassifier(SGDClassifier())\n",
    "SGDClassifier_classifier.train(train_featuresets)\n",
    "print(\"SGDClassifier_classifier accuracy percent:\", (nltk.classify.accuracy(SGDClassifier_classifier, test_featuresets))*100)\n",
    "\n",
    "##SVC_classifier = SklearnClassifier(SVC())\n",
    "##SVC_classifier.train(train_set)\n",
    "##print(\"SVC_classifier accuracy percent:\", (nltk.classify.accuracy(SVC_classifier, test_set))*100)\n",
    "\n",
    "LinearSVC_classifier = SklearnClassifier(LinearSVC())\n",
    "LinearSVC_classifier.train(train_featuresets)\n",
    "print(\"LinearSVC_classifier accuracy percent:\", (nltk.classify.accuracy(LinearSVC_classifier, test_featuresets))*100)\n",
    "\n",
    "##NuSVC_classifier = SklearnClassifier(NuSVC())\n",
    "##NuSVC_classifier.train(train_featuresets)\n",
    "##print(\"NuSVC_classifier accuracy percent:\", (nltk.classify.accuracy(NuSVC_classifier, test_featuresets))*100)"
   ]
  },
  {
   "cell_type": "code",
   "execution_count": 246,
   "metadata": {
    "collapsed": true
   },
   "outputs": [],
   "source": [
    "output = open('pickled/C2_General_NaiveBayesClassifier.pkl', 'wb')\n",
    "pickle.dump(NaiveBayesClassifier, output)\n",
    "\n",
    "output = open('pickled/C2_General_MNB_classifier.pkl', 'wb')\n",
    "pickle.dump(MNB_classifier, output)\n",
    "\n",
    "output = open('pickled/C2_General_BernoulliNB_classifier.pkl', 'wb')\n",
    "pickle.dump(BernoulliNB_classifier, output)\n",
    "\n",
    "output = open('pickled/C2_General_LogisticRegression_classifier.pkl', 'wb')\n",
    "pickle.dump(LogisticRegression_classifier, output)\n",
    "\n",
    "output = open('pickled/C2_General_SGDClassifier_classifier.pkl', 'wb')\n",
    "pickle.dump(SGDClassifier_classifier, output)\n",
    "\n",
    "output = open('pickled/C2_General_LinearSVC_classifier.pkl', 'wb')\n",
    "pickle.dump(LinearSVC_classifier, output)"
   ]
  },
  {
   "cell_type": "markdown",
   "metadata": {},
   "source": [
    "# Testing and training Class 3"
   ]
  },
  {
   "cell_type": "code",
   "execution_count": 247,
   "metadata": {
    "collapsed": false
   },
   "outputs": [],
   "source": [
    "Personal_df=df.loc[df['Class_2']=='Personal']\n",
    "#Personal_df=df.loc[df['Class_1']!='Domine_Specific']\n",
    "Class_2_df=Personal_df.filter(['Des_Val_combined','Class_3'], axis=1)\n",
    "Personal_List= Class_2_df.values.tolist()\n",
    "Personal_List= shuffle(Personal_List)\n",
    "size = int(len(Personal_List) * 0.20)\n",
    "train_set, test_set = Personal_List[size:], Personal_List[:size]\n",
    "train_set=Personal_List"
   ]
  },
  {
   "cell_type": "code",
   "execution_count": 248,
   "metadata": {
    "collapsed": true
   },
   "outputs": [],
   "source": [
    "train_featuresets = [(document_features(Value), class2) for (Value,class2) in train_set]\n",
    "test_featuresets = [(document_features(Value), class2) for (Value,class2) in test_set]"
   ]
  },
  {
   "cell_type": "code",
   "execution_count": 249,
   "metadata": {
    "collapsed": false
   },
   "outputs": [
    {
     "name": "stdout",
     "output_type": "stream",
     "text": [
      "NaiveBayesClassifier accuracy percent: 94.11764705882352\n"
     ]
    }
   ],
   "source": [
    "NaiveBayesClassifier = nltk.NaiveBayesClassifier.train(train_featuresets)\n",
    "print(\"NaiveBayesClassifier accuracy percent:\", (nltk.classify.accuracy(NaiveBayesClassifier, test_featuresets))*100)"
   ]
  },
  {
   "cell_type": "code",
   "execution_count": 250,
   "metadata": {
    "collapsed": false
   },
   "outputs": [
    {
     "name": "stdout",
     "output_type": "stream",
     "text": [
      "MNB_classifier accuracy percent: 94.11764705882352\n",
      "BernoulliNB_classifier accuracy percent: 88.23529411764706\n",
      "LogisticRegression_classifier accuracy percent: 94.11764705882352\n",
      "SGDClassifier_classifier accuracy percent: 94.11764705882352\n",
      "LinearSVC_classifier accuracy percent: 94.11764705882352\n"
     ]
    }
   ],
   "source": [
    "MNB_classifier = SklearnClassifier(MultinomialNB())\n",
    "MNB_classifier.train(train_featuresets)\n",
    "print(\"MNB_classifier accuracy percent:\", (nltk.classify.accuracy(MNB_classifier, test_featuresets))*100)\n",
    "\n",
    "BernoulliNB_classifier = SklearnClassifier(BernoulliNB())\n",
    "BernoulliNB_classifier.train(train_featuresets)\n",
    "print(\"BernoulliNB_classifier accuracy percent:\", (nltk.classify.accuracy(BernoulliNB_classifier, test_featuresets))*100)\n",
    "\n",
    "LogisticRegression_classifier = SklearnClassifier(LogisticRegression())\n",
    "LogisticRegression_classifier.train(train_featuresets)\n",
    "print(\"LogisticRegression_classifier accuracy percent:\", (nltk.classify.accuracy(LogisticRegression_classifier, test_featuresets))*100)\n",
    "\n",
    "SGDClassifier_classifier = SklearnClassifier(SGDClassifier())\n",
    "SGDClassifier_classifier.train(train_featuresets)\n",
    "print(\"SGDClassifier_classifier accuracy percent:\", (nltk.classify.accuracy(SGDClassifier_classifier, test_featuresets))*100)\n",
    "\n",
    "##SVC_classifier = SklearnClassifier(SVC())\n",
    "##SVC_classifier.train(train_set)\n",
    "##print(\"SVC_classifier accuracy percent:\", (nltk.classify.accuracy(SVC_classifier, test_set))*100)\n",
    "\n",
    "LinearSVC_classifier = SklearnClassifier(LinearSVC())\n",
    "LinearSVC_classifier.train(train_featuresets)\n",
    "print(\"LinearSVC_classifier accuracy percent:\", (nltk.classify.accuracy(LinearSVC_classifier, test_featuresets))*100)\n",
    "\n",
    "##NuSVC_classifier = SklearnClassifier(NuSVC())\n",
    "##NuSVC_classifier.train(train_featuresets)\n",
    "##print(\"NuSVC_classifier accuracy percent:\", (nltk.classify.accuracy(NuSVC_classifier, test_featuresets))*100)"
   ]
  },
  {
   "cell_type": "code",
   "execution_count": 251,
   "metadata": {
    "collapsed": true
   },
   "outputs": [],
   "source": [
    "output = open('pickled/C3_Personal_NaiveBayesClassifier.pkl', 'wb')\n",
    "pickle.dump(NaiveBayesClassifier, output)\n",
    "\n",
    "output = open('pickled/C3_Personal_MNB_classifier.pkl', 'wb')\n",
    "pickle.dump(MNB_classifier, output)\n",
    "\n",
    "output = open('pickled/C3_Personal_BernoulliNB_classifier.pkl', 'wb')\n",
    "pickle.dump(BernoulliNB_classifier, output)\n",
    "\n",
    "output = open('pickled/C3_Personal_LogisticRegression_classifier.pkl', 'wb')\n",
    "pickle.dump(LogisticRegression_classifier, output)\n",
    "\n",
    "output = open('pickled/C3_Personal_SGDClassifier_classifier.pkl', 'wb')\n",
    "pickle.dump(SGDClassifier_classifier, output)\n",
    "\n",
    "output = open('pickled/C3_Personal_LinearSVC_classifier.pkl', 'wb')\n",
    "pickle.dump(LinearSVC_classifier, output)"
   ]
  },
  {
   "cell_type": "code",
   "execution_count": null,
   "metadata": {
    "collapsed": true
   },
   "outputs": [],
   "source": []
  },
  {
   "cell_type": "code",
   "execution_count": null,
   "metadata": {
    "collapsed": true
   },
   "outputs": [],
   "source": []
  },
  {
   "cell_type": "code",
   "execution_count": null,
   "metadata": {
    "collapsed": true
   },
   "outputs": [],
   "source": []
  },
  {
   "cell_type": "code",
   "execution_count": null,
   "metadata": {
    "collapsed": true
   },
   "outputs": [],
   "source": []
  }
 ],
 "metadata": {
  "kernelspec": {
   "display_name": "Python 3",
   "language": "python",
   "name": "python3"
  },
  "language_info": {
   "codemirror_mode": {
    "name": "ipython",
    "version": 3
   },
   "file_extension": ".py",
   "mimetype": "text/x-python",
   "name": "python",
   "nbconvert_exporter": "python",
   "pygments_lexer": "ipython3",
   "version": "3.6.1"
  }
 },
 "nbformat": 4,
 "nbformat_minor": 2
}
