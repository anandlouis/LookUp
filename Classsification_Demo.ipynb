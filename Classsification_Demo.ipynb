{
 "cells": [
  {
   "cell_type": "code",
   "execution_count": 1,
   "metadata": {
    "collapsed": true
   },
   "outputs": [],
   "source": [
    "import pandas as pd\n",
    "from sklearn.utils import shuffle\n",
    "import nltk\n",
    "from nltk.tokenize import RegexpTokenizer\n",
    "from nltk.corpus import stopwords\n",
    "from nltk.classify.scikitlearn import SklearnClassifier\n",
    "import pickle\n",
    "\n",
    "from sklearn.naive_bayes import MultinomialNB, BernoulliNB\n",
    "from sklearn.linear_model import LogisticRegression, SGDClassifier\n",
    "from sklearn.svm import SVC, LinearSVC, NuSVC\n",
    "\n",
    "from nltk.classify import ClassifierI\n",
    "from statistics import mode"
   ]
  },
  {
   "cell_type": "code",
   "execution_count": 2,
   "metadata": {
    "collapsed": true
   },
   "outputs": [],
   "source": [
    "def preprocess(sentence):\n",
    "    sentence = sentence.lower()\n",
    "    tokenizer = RegexpTokenizer(r'\\w+')\n",
    "    tokens = tokenizer.tokenize(sentence)\n",
    "    filtered_words = [w for w in tokens if not w in stopwords.words('english')]\n",
    "    return \" \".join(filtered_words)\n",
    "\n",
    "def document_features(post):\n",
    "    cleansed_post=preprocess(post)\n",
    "    features = {}\n",
    "    for word in nltk.word_tokenize(cleansed_post):\n",
    "          features['contains({})'.format(word.lower())] = True\n",
    "    return features"
   ]
  },
  {
   "cell_type": "code",
   "execution_count": 3,
   "metadata": {
    "collapsed": true
   },
   "outputs": [],
   "source": [
    "C1_All = pickle.load( open('pickled/C1_MNB_classifier.pkl', \"rb\" ) )\n",
    "C2_Persona = pickle.load( open('pickled/C2_Persona_SGDClassifier_classifier.pkl', \"rb\" ) )\n",
    "C2_General = pickle.load( open('pickled/C2_General_SGDClassifier_classifier.pkl', \"rb\" ) )\n",
    "C3_Personal = pickle.load( open('pickled/C3_Personal_MNB_classifier.pkl', \"rb\" ) )"
   ]
  },
  {
   "cell_type": "code",
   "execution_count": 20,
   "metadata": {
    "collapsed": false
   },
   "outputs": [],
   "source": [
    "Sample_Description ='Female'\n",
    "Sample_Value ='F'\n",
    "\n"
   ]
  },
  {
   "cell_type": "code",
   "execution_count": 21,
   "metadata": {
    "collapsed": false
   },
   "outputs": [
    {
     "name": "stdout",
     "output_type": "stream",
     "text": [
      "Class 1: Persona\n",
      "Class 2: Personal\n",
      "Class 3: Social\n"
     ]
    }
   ],
   "source": [
    "Sample_String=Sample_Description+' '+Sample_Value\n",
    "featuresets_SampleText= document_features(Sample_String)\n",
    "\n",
    "C1 = C1_All.classify(featuresets_SampleText)\n",
    "print('Class 1:',C1)\n",
    "if C1=='Persona':\n",
    "    C2=C2_Persona.classify(featuresets_SampleText)\n",
    "    print('Class 2:',C2)\n",
    "    if C2=='Personal':\n",
    "        C3=C3_Personal.classify(featuresets_SampleText)\n",
    "        print('Class 3:',C3)\n",
    "        \n",
    "if C1=='General':\n",
    "    C2=C2_General.classify(featuresets_SampleText)\n",
    "    print('Class 2:',C2)\n",
    "\n",
    "if C1=='Domine_Specific':\n",
    "    print('Class 1:',C1)"
   ]
  },
  {
   "cell_type": "code",
   "execution_count": null,
   "metadata": {
    "collapsed": true
   },
   "outputs": [],
   "source": []
  },
  {
   "cell_type": "code",
   "execution_count": null,
   "metadata": {
    "collapsed": true
   },
   "outputs": [],
   "source": []
  },
  {
   "cell_type": "code",
   "execution_count": null,
   "metadata": {
    "collapsed": true
   },
   "outputs": [],
   "source": []
  },
  {
   "cell_type": "code",
   "execution_count": null,
   "metadata": {
    "collapsed": true
   },
   "outputs": [],
   "source": []
  },
  {
   "cell_type": "code",
   "execution_count": 131,
   "metadata": {
    "collapsed": false
   },
   "outputs": [
    {
     "name": "stdout",
     "output_type": "stream",
     "text": [
      "Class 1: Domine_Specific\n",
      "Class 2: Contact\n",
      "Class 3: Name Prefix Code\n"
     ]
    }
   ],
   "source": [
    "featuresets_SampleText= document_features(Sample_String)\n",
    "print('Class 1:',C1.classify(featuresets_SampleText))\n",
    "print('Class 2:',C2_Persona.classify(featuresets_SampleText))\n",
    "print('Class 3:',C3.classify(featuresets_SampleText))\n"
   ]
  },
  {
   "cell_type": "markdown",
   "metadata": {},
   "source": [
    "# If Persona"
   ]
  },
  {
   "cell_type": "code",
   "execution_count": null,
   "metadata": {
    "collapsed": true
   },
   "outputs": [],
   "source": [
    "featuresets_SampleText= document_features(Sample_String)\n",
    "print('Class 1:',C1.classify(featuresets_SampleText))\n",
    "print('Class 2:',C2_Persona.classify(featuresets_SampleText))\n",
    "print('Class 3:',C3.classify(featuresets_SampleText))"
   ]
  },
  {
   "cell_type": "code",
   "execution_count": null,
   "metadata": {
    "collapsed": true
   },
   "outputs": [],
   "source": [
    "featuresets_SampleText= document_features(Sample_String)\n",
    "print('Class 1:',C1.classify(featuresets_SampleText))\n",
    "print('Class 2:',C2_Persona.classify(featuresets_SampleText))\n",
    "print('Class 3:',C3.classify(featuresets_SampleText))"
   ]
  },
  {
   "cell_type": "code",
   "execution_count": null,
   "metadata": {
    "collapsed": true
   },
   "outputs": [],
   "source": []
  },
  {
   "cell_type": "code",
   "execution_count": null,
   "metadata": {
    "collapsed": true
   },
   "outputs": [],
   "source": []
  },
  {
   "cell_type": "code",
   "execution_count": null,
   "metadata": {
    "collapsed": true
   },
   "outputs": [],
   "source": []
  },
  {
   "cell_type": "code",
   "execution_count": null,
   "metadata": {
    "collapsed": true
   },
   "outputs": [],
   "source": [
    "featuresets_SampleText= document_features(Sample_String)\n",
    "C1 = C1_Classifier.classify(featuresets_SampleText)\n",
    "if C1=='Persona':\n",
    "    C2=C2_Persona.classify(featuresets_SampleText)\n",
    "    if C2=='Personal':\n",
    "        C3=C3_Persona.classify(featuresets_SampleText)\n",
    "        print(C3)"
   ]
  },
  {
   "cell_type": "code",
   "execution_count": 34,
   "metadata": {
    "collapsed": true
   },
   "outputs": [],
   "source": [
    "C1_NaiveBayesClassifier = pickle.load( open('pickled/C1_NaiveBayesClassifier.pkl', \"rb\" ) )\n",
    "C1_MNB_classifier = pickle.load( open('pickled/C1_MNB_classifier.pkl', \"rb\" ) )\n",
    "C1_BernoulliNB_classifier = pickle.load( open('pickled/C1_BernoulliNB_classifier.pkl', \"rb\" ) )\n",
    "C1_LogisticRegression_classifier = pickle.load( open('pickled/C1_LogisticRegression_classifier.pkl', \"rb\" ) )\n",
    "C1_SGDClassifier_classifier = pickle.load( open('pickled/C1_SGDClassifier_classifier.pkl', \"rb\" ) )\n",
    "C1_LinearSVC_classifier = pickle.load( open('pickled/C1_LinearSVC_classifier.pkl', \"rb\" ) )\n",
    "\n",
    "C2_Persona_NaiveBayesClassifier = pickle.load( open('pickled/C2_Persona_NaiveBayesClassifier.pkl', \"rb\" ) )\n",
    "C2_Persona_MNB_classifier = pickle.load( open('pickled/C2_Persona_MNB_classifier.pkl', \"rb\" ) )\n",
    "C2_Persona_BernoulliNB_classifier = pickle.load( open('pickled/C2_Persona_BernoulliNB_classifier.pkl', \"rb\" ) )\n",
    "C2_Persona_LogisticRegression_classifier = pickle.load( open('pickled/C2_Persona_LogisticRegression_classifier.pkl', \"rb\" ) )\n",
    "C2_Persona_SGDClassifier_classifier = pickle.load( open('pickled/C2_Persona_SGDClassifier_classifier.pkl', \"rb\" ) )\n",
    "C2_Persona_LinearSVC_classifier = pickle.load( open('pickled/C2_Persona_LinearSVC_classifier.pkl', \"rb\" ) )\n",
    "\n",
    "C3_Personal_NaiveBayesClassifier = pickle.load( open('pickled/C3_Personal_NaiveBayesClassifier.pkl', \"rb\" ) )\n",
    "C3_Personal_MNB_classifier = pickle.load( open('pickled/C3_Personal_MNB_classifier.pkl', \"rb\" ) )\n",
    "C3_Personal_BernoulliNB_classifier = pickle.load( open('pickled/C3_Personal_BernoulliNB_classifier.pkl', \"rb\" ) )\n",
    "C3_Personal_LogisticRegression_classifier = pickle.load( open('pickled/C3_Personal_LogisticRegression_classifier.pkl', \"rb\" ) )\n",
    "C3_Personal_SGDClassifier_classifier = pickle.load( open('pickled/C3_Personal_SGDClassifier_classifier.pkl', \"rb\" ) )\n",
    "C3_Personal_LinearSVC_classifier = pickle.load( open('pickled/C3_Personal_LinearSVC_classifier.pkl', \"rb\" ) )\n"
   ]
  },
  {
   "cell_type": "code",
   "execution_count": 35,
   "metadata": {
    "collapsed": true
   },
   "outputs": [],
   "source": []
  },
  {
   "cell_type": "code",
   "execution_count": null,
   "metadata": {
    "collapsed": true
   },
   "outputs": [],
   "source": [
    "Sample_Description ='Female'\n",
    "Sample_Value ='Female'\n",
    "\n",
    "Sample_String=Sample_Description+Sample_Value"
   ]
  },
  {
   "cell_type": "code",
   "execution_count": null,
   "metadata": {
    "collapsed": true
   },
   "outputs": [],
   "source": [
    "featuresets_SampleText= document_features(Sample_String)\n"
   ]
  },
  {
   "cell_type": "markdown",
   "metadata": {},
   "source": [
    "# Class 1"
   ]
  },
  {
   "cell_type": "code",
   "execution_count": 38,
   "metadata": {
    "collapsed": false
   },
   "outputs": [
    {
     "name": "stdout",
     "output_type": "stream",
     "text": [
      "C1_NaiveBayesClassifier:  Persona\n",
      "C1_MNB_classifier:  Domine_Specific\n",
      "C1_BernoulliNB_classifier:  Domine_Specific\n",
      "C1_LogisticRegression_classifier:  General\n",
      "C1_SGDClassifier_classifier:  General\n",
      "C1_LinearSVC_classifier:  General\n"
     ]
    }
   ],
   "source": [
    "print('C1_NaiveBayesClassifier: ',C1_NaiveBayesClassifier.classify(featuresets_SampleText))\n",
    "print('C1_MNB_classifier: ',C1_MNB_classifier.classify(featuresets_SampleText))\n",
    "print('C1_BernoulliNB_classifier: ',C1_BernoulliNB_classifier.classify(featuresets_SampleText))\n",
    "print('C1_LogisticRegression_classifier: ',C1_LogisticRegression_classifier.classify(featuresets_SampleText))\n",
    "print('C1_SGDClassifier_classifier: ',C1_SGDClassifier_classifier.classify(featuresets_SampleText))\n",
    "print('C1_LinearSVC_classifier: ',C1_LinearSVC_classifier.classify(featuresets_SampleText))"
   ]
  },
  {
   "cell_type": "code",
   "execution_count": 33,
   "metadata": {
    "collapsed": false
   },
   "outputs": [
    {
     "name": "stdout",
     "output_type": "stream",
     "text": [
      "Class 1: Domine_Specific\n",
      "Class 2: Personal\n",
      "Class 3: Name\n"
     ]
    }
   ],
   "source": [
    "featuresets_SampleText= document_features(Sample_Description)"
   ]
  },
  {
   "cell_type": "code",
   "execution_count": 39,
   "metadata": {
    "collapsed": false
   },
   "outputs": [
    {
     "name": "stdout",
     "output_type": "stream",
     "text": [
      "C2_Persona_NaiveBayesClassifier:  Personal\n",
      "C2_Persona_MNB_classifier:  Personal\n",
      "C2_Persona_BernoulliNB_classifier:  Contact\n",
      "C2_Persona_LogisticRegression_classifier:  Contact\n",
      "C2_Persona_SGDClassifier_classifier:  Contact\n",
      "C2_Persona_LinearSVC_classifier:  Contact\n"
     ]
    }
   ],
   "source": [
    "print('C2_Persona_NaiveBayesClassifier: ',C2_Persona_NaiveBayesClassifier.classify(featuresets_SampleText))\n",
    "print('C2_Persona_MNB_classifier: ',C2_Persona_MNB_classifier.classify(featuresets_SampleText))\n",
    "print('C2_Persona_BernoulliNB_classifier: ',C2_Persona_BernoulliNB_classifier.classify(featuresets_SampleText))\n",
    "print('C2_Persona_LogisticRegression_classifier: ',C2_Persona_LogisticRegression_classifier.classify(featuresets_SampleText))\n",
    "print('C2_Persona_SGDClassifier_classifier: ',C2_Persona_SGDClassifier_classifier.classify(featuresets_SampleText))\n",
    "print('C2_Persona_LinearSVC_classifier: ',C2_Persona_LinearSVC_classifier.classify(featuresets_SampleText))\n",
    "\n"
   ]
  },
  {
   "cell_type": "code",
   "execution_count": 40,
   "metadata": {
    "collapsed": false
   },
   "outputs": [
    {
     "name": "stdout",
     "output_type": "stream",
     "text": [
      "C3_Personal_NaiveBayesClassifier:  Name\n",
      "C3_Personal_MNB_classifier:  Name\n",
      "C3_Personal_BernoulliNB_classifier:  Status\n",
      "C3_Personal_LogisticRegression_classifier:  Status\n",
      "C3_Personal_SGDClassifier_classifier:  Status\n",
      "C3_Personal_LinearSVC_classifier:  Status\n"
     ]
    }
   ],
   "source": [
    "print('C3_Personal_NaiveBayesClassifier: ',C3_Personal_NaiveBayesClassifier.classify(featuresets_SampleText))\n",
    "print('C3_Personal_MNB_classifier: ',C3_Personal_MNB_classifier.classify(featuresets_SampleText))\n",
    "print('C3_Personal_BernoulliNB_classifier: ',C3_Personal_BernoulliNB_classifier.classify(featuresets_SampleText))\n",
    "print('C3_Personal_LogisticRegression_classifier: ',C3_Personal_LogisticRegression_classifier.classify(featuresets_SampleText))\n",
    "print('C3_Personal_SGDClassifier_classifier: ',C3_Personal_SGDClassifier_classifier.classify(featuresets_SampleText))\n",
    "print('C3_Personal_LinearSVC_classifier: ',C3_Personal_LinearSVC_classifier.classify(featuresets_SampleText))\n"
   ]
  },
  {
   "cell_type": "code",
   "execution_count": null,
   "metadata": {
    "collapsed": true
   },
   "outputs": [],
   "source": []
  },
  {
   "cell_type": "code",
   "execution_count": null,
   "metadata": {
    "collapsed": true
   },
   "outputs": [],
   "source": []
  }
 ],
 "metadata": {
  "kernelspec": {
   "display_name": "Python 3",
   "language": "python",
   "name": "python3"
  },
  "language_info": {
   "codemirror_mode": {
    "name": "ipython",
    "version": 3
   },
   "file_extension": ".py",
   "mimetype": "text/x-python",
   "name": "python",
   "nbconvert_exporter": "python",
   "pygments_lexer": "ipython3",
   "version": "3.6.1"
  }
 },
 "nbformat": 4,
 "nbformat_minor": 2
}
